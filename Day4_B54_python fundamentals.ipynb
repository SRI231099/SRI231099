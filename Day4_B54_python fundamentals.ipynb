{
 "cells": [
  {
   "cell_type": "code",
   "execution_count": 1,
   "id": "ec81404c",
   "metadata": {},
   "outputs": [],
   "source": [
    "students=['karthik','navven','indu','jhon']                  # example for lists"
   ]
  },
  {
   "cell_type": "code",
   "execution_count": 2,
   "id": "d9410c90",
   "metadata": {},
   "outputs": [
    {
     "name": "stdout",
     "output_type": "stream",
     "text": [
      "['karthik', 'navven', 'indu', 'jhon']\n"
     ]
    }
   ],
   "source": [
    "print(students)"
   ]
  },
  {
   "cell_type": "code",
   "execution_count": 3,
   "id": "8a1af580",
   "metadata": {},
   "outputs": [
    {
     "data": {
      "text/plain": [
       "list"
      ]
     },
     "execution_count": 3,
     "metadata": {},
     "output_type": "execute_result"
    }
   ],
   "source": [
    "type(students)"
   ]
  },
  {
   "cell_type": "code",
   "execution_count": 4,
   "id": "584afed7",
   "metadata": {},
   "outputs": [
    {
     "name": "stdout",
     "output_type": "stream",
     "text": [
      "navven\n"
     ]
    }
   ],
   "source": [
    "print(students[1])                                            # indexing "
   ]
  },
  {
   "cell_type": "code",
   "execution_count": 5,
   "id": "2169c4a1",
   "metadata": {},
   "outputs": [
    {
     "name": "stdout",
     "output_type": "stream",
     "text": [
      "indu\n"
     ]
    }
   ],
   "source": [
    "print(students[2])"
   ]
  },
  {
   "cell_type": "code",
   "execution_count": 10,
   "id": "45754e4a",
   "metadata": {},
   "outputs": [
    {
     "name": "stdout",
     "output_type": "stream",
     "text": [
      "['karthik', 'navven', 'indu', 'jhon', 'tarun']\n"
     ]
    }
   ],
   "source": [
    "students=['karthik','navven','indu','jhon']                  # add new elements\n",
    "students.append('tarun')\n",
    "print(students)"
   ]
  },
  {
   "cell_type": "code",
   "execution_count": 16,
   "id": "c44e0b5e",
   "metadata": {},
   "outputs": [
    {
     "name": "stdout",
     "output_type": "stream",
     "text": [
      "['karthik', 'navven', 'kumar', 'indu', 'jhon']\n"
     ]
    }
   ],
   "source": [
    "students=['karthik','navven','indu','jhon']\n",
    "students.insert(2,'kumar')\n",
    "print(students)"
   ]
  },
  {
   "cell_type": "code",
   "execution_count": 18,
   "id": "831eeb5d",
   "metadata": {},
   "outputs": [
    {
     "name": "stdout",
     "output_type": "stream",
     "text": [
      "['karthik', 'naveena', 'indu', 'jhon']\n"
     ]
    }
   ],
   "source": [
    "students=['karthik','navven','indu','jhon']                  # modify the elements\n",
    "students[1]='naveena'\n",
    "print(students)"
   ]
  },
  {
   "cell_type": "code",
   "execution_count": 19,
   "id": "b739090d",
   "metadata": {},
   "outputs": [
    {
     "name": "stdout",
     "output_type": "stream",
     "text": [
      "['navven', 'indu', 'jhon']\n"
     ]
    }
   ],
   "source": [
    "students=['karthik','navven','indu','jhon']                 # delete the elements\n",
    "del students[0]\n",
    "print(students)"
   ]
  },
  {
   "cell_type": "code",
   "execution_count": null,
   "id": "957b179e",
   "metadata": {},
   "outputs": [],
   "source": []
  }
 ],
 "metadata": {
  "kernelspec": {
   "display_name": "Python 3",
   "language": "python",
   "name": "python3"
  },
  "language_info": {
   "codemirror_mode": {
    "name": "ipython",
    "version": 3
   },
   "file_extension": ".py",
   "mimetype": "text/x-python",
   "name": "python",
   "nbconvert_exporter": "python",
   "pygments_lexer": "ipython3",
   "version": "3.8.8"
  }
 },
 "nbformat": 4,
 "nbformat_minor": 5
}
